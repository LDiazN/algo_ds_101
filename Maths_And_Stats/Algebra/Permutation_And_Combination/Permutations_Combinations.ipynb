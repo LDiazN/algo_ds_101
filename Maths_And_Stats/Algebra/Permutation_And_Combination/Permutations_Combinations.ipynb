{
  "nbformat": 4,
  "nbformat_minor": 0,
  "metadata": {
    "colab": {
      "name": "Untitled3.ipynb",
      "provenance": []
    },
    "kernelspec": {
      "name": "python3",
      "display_name": "Python 3"
    }
  },
  "cells": [
    {
      "cell_type": "code",
      "metadata": {
        "id": "UPeL109N3trH",
        "outputId": "d0555f7e-a5be-4fac-e437-57534267f35b",
        "colab": {
          "base_uri": "https://localhost:8080/",
          "height": 187
        }
      },
      "source": [
        "#finding permutations of elements in a list\n",
        "from itertools import permutations\n",
        "n=int(input('enter no of elements'))\n",
        "list=[]\n",
        "for i in range (0,n):\n",
        "  a=int(input('enter number'))\n",
        "  list.append(a)\n",
        "seq=permutations(list)\n",
        "for p in seq:\n",
        "   print(p)"
      ],
      "execution_count": 4,
      "outputs": [
        {
          "output_type": "stream",
          "text": [
            "enter no of elements3\n",
            "enter number1\n",
            "enter number2\n",
            "enter number3\n",
            "(1, 2, 3)\n",
            "(1, 3, 2)\n",
            "(2, 1, 3)\n",
            "(2, 3, 1)\n",
            "(3, 1, 2)\n",
            "(3, 2, 1)\n"
          ],
          "name": "stdout"
        }
      ]
    },
    {
      "cell_type": "code",
      "metadata": {
        "id": "gDYpPS7I5Reo",
        "outputId": "2707482d-92dc-472f-f8be-29a515d95bb1",
        "colab": {
          "base_uri": "https://localhost:8080/",
          "height": 119
        }
      },
      "source": [
        "#Find the permutation by defining the length of the permutation.\n",
        "seq = permutations(list, 2)\n",
        "for p in seq:\n",
        "   print(p)"
      ],
      "execution_count": 5,
      "outputs": [
        {
          "output_type": "stream",
          "text": [
            "(1, 2)\n",
            "(1, 3)\n",
            "(2, 1)\n",
            "(2, 3)\n",
            "(3, 1)\n",
            "(3, 2)\n"
          ],
          "name": "stdout"
        }
      ]
    },
    {
      "cell_type": "code",
      "metadata": {
        "id": "V3wJrRPC5ujs",
        "outputId": "4101b4de-0bfc-4da3-c8cf-b14e45820a4e",
        "colab": {
          "base_uri": "https://localhost:8080/",
          "height": 68
        }
      },
      "source": [
        "from itertools import combinations\n",
        "#Getting all combination of a particular length.\n",
        "combi = combinations(list, 2)\n",
        "\n",
        "#Print the list of combinations\n",
        "\n",
        "for c in combi:\n",
        "   print(c)"
      ],
      "execution_count": 7,
      "outputs": [
        {
          "output_type": "stream",
          "text": [
            "(1, 2)\n",
            "(1, 3)\n",
            "(2, 3)\n"
          ],
          "name": "stdout"
        }
      ]
    }
  ]
}